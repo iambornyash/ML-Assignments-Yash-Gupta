{
 "cells": [
  {
   "cell_type": "markdown",
   "id": "5e81461f",
   "metadata": {},
   "source": [
    "##### Exercise 1: Print First 10 natural numbers using while loop\n"
   ]
  },
  {
   "cell_type": "code",
   "execution_count": 1,
   "id": "62c4f483",
   "metadata": {},
   "outputs": [
    {
     "name": "stdout",
     "output_type": "stream",
     "text": [
      "1 2 3 4 5 6 7 8 9 10 "
     ]
    }
   ],
   "source": [
    "i=1\n",
    "while(i<=10):\n",
    "    print(i,end=\" \")\n",
    "    i=i+1\n",
    "    "
   ]
  },
  {
   "cell_type": "markdown",
   "id": "df940fe3",
   "metadata": {},
   "source": [
    "##### Exercise 2: Print the following pattern:  \n",
    "                                          1111\n",
    "                                           111\n",
    "                                            11\n",
    "                                             1\n"
   ]
  },
  {
   "cell_type": "code",
   "execution_count": 2,
   "id": "4d32cc06",
   "metadata": {},
   "outputs": [
    {
     "name": "stdout",
     "output_type": "stream",
     "text": [
      "  1 1 1 1 \n",
      "    1 1 1 \n",
      "      1 1 \n",
      "        1 \n"
     ]
    }
   ],
   "source": [
    "n=4\n",
    "for i in range(4):\n",
    "    for j in range(i+1):\n",
    "        print(\" \",end=\" \")\n",
    "    for j in range(i,n):\n",
    "        print(\"1\",end=\" \")\n",
    "    print()"
   ]
  },
  {
   "cell_type": "markdown",
   "id": "5fee74f4",
   "metadata": {},
   "source": [
    "##### Exercise 3: Calculate the sum of all numbers from 1 to a given number\n"
   ]
  },
  {
   "cell_type": "code",
   "execution_count": 4,
   "id": "80542c2b",
   "metadata": {},
   "outputs": [
    {
     "name": "stdout",
     "output_type": "stream",
     "text": [
      "Enter a number:6\n",
      "21\n"
     ]
    }
   ],
   "source": [
    "a=1\n",
    "b=int(input('Enter a number:'))\n",
    "sum=0\n",
    "for i in range(a,b+1):\n",
    "    sum=sum+i\n",
    "print(sum)"
   ]
  },
  {
   "cell_type": "code",
   "execution_count": 5,
   "id": "fe8ca677",
   "metadata": {},
   "outputs": [],
   "source": [
    "def add(*num):\n",
    "    sum=0\n",
    "    for i in num:\n",
    "        sum=sum+i\n",
    "    print(sum)"
   ]
  },
  {
   "cell_type": "code",
   "execution_count": 6,
   "id": "6007c70f",
   "metadata": {},
   "outputs": [
    {
     "name": "stdout",
     "output_type": "stream",
     "text": [
      "21\n"
     ]
    }
   ],
   "source": [
    "add(1,2,3,4,5,6)"
   ]
  },
  {
   "cell_type": "markdown",
   "id": "e8b3d2eb",
   "metadata": {},
   "source": [
    "##### Exercise 4: Write a program to print multiplication table of a given number"
   ]
  },
  {
   "cell_type": "code",
   "execution_count": 7,
   "id": "2fa5dc7c",
   "metadata": {},
   "outputs": [
    {
     "name": "stdout",
     "output_type": "stream",
     "text": [
      "Enter a number:26\n",
      "26 X 1 = 26\n",
      "26 X 2 = 52\n",
      "26 X 3 = 78\n",
      "26 X 4 = 104\n",
      "26 X 5 = 130\n",
      "26 X 6 = 156\n",
      "26 X 7 = 182\n",
      "26 X 8 = 208\n",
      "26 X 9 = 234\n",
      "26 X 10 = 260\n"
     ]
    }
   ],
   "source": [
    "num=int(input('Enter a number:'))\n",
    "for i in range(1,11):\n",
    "    print(num,\"X\",i,\"=\",num*i)"
   ]
  },
  {
   "cell_type": "markdown",
   "id": "7a8c336f",
   "metadata": {},
   "source": [
    "##### Exercise 5: Display numbers from a list using loop\n"
   ]
  },
  {
   "cell_type": "code",
   "execution_count": 8,
   "id": "50a0d14c",
   "metadata": {},
   "outputs": [
    {
     "name": "stdout",
     "output_type": "stream",
     "text": [
      "1\n",
      "2\n",
      "3\n",
      "4\n",
      "5\n"
     ]
    }
   ],
   "source": [
    "a=[1,2,3,4,5]\n",
    "for i in range (len(a)):\n",
    "    print(a[i])"
   ]
  },
  {
   "cell_type": "code",
   "execution_count": 9,
   "id": "c6eeac28",
   "metadata": {},
   "outputs": [
    {
     "name": "stdout",
     "output_type": "stream",
     "text": [
      "1 , 2 , 3 , 4\n"
     ]
    }
   ],
   "source": [
    "a=[1,2,3,4]\n",
    "print(*a,sep=\" , \")"
   ]
  },
  {
   "cell_type": "code",
   "execution_count": 10,
   "id": "4b315b7a",
   "metadata": {},
   "outputs": [
    {
     "name": "stdout",
     "output_type": "stream",
     "text": [
      "1 2 3 4 hii\n"
     ]
    }
   ],
   "source": [
    "a=[1,2,3,4,'hii']\n",
    "print(*a)"
   ]
  },
  {
   "cell_type": "markdown",
   "id": "b77cb45c",
   "metadata": {},
   "source": [
    "##### Exercise 6: Count the total number of digits in a number\n"
   ]
  },
  {
   "cell_type": "code",
   "execution_count": 11,
   "id": "80118eeb",
   "metadata": {},
   "outputs": [
    {
     "name": "stdout",
     "output_type": "stream",
     "text": [
      "The total number of digits in a number are: 8\n"
     ]
    }
   ],
   "source": [
    "n=29878899\n",
    "i=0\n",
    "while(n>0):\n",
    "    i=i+1\n",
    "    n//=10    #n=n//10\n",
    "print(\"The total number of digits in a number are:\",i)"
   ]
  },
  {
   "cell_type": "markdown",
   "id": "01699f16",
   "metadata": {},
   "source": [
    "##### Exercise 7: Print the following pattern : Diamond shape\n"
   ]
  },
  {
   "cell_type": "code",
   "execution_count": 12,
   "id": "c54a038d",
   "metadata": {},
   "outputs": [
    {
     "name": "stdout",
     "output_type": "stream",
     "text": [
      "        * \n",
      "      * * * \n",
      "    * * * * * \n",
      "  * * * * * * * \n",
      "  * * * * * * * \n",
      "    * * * * * \n",
      "      * * * \n",
      "        * \n"
     ]
    }
   ],
   "source": [
    "# Reading number of row \n",
    "n=4\n",
    "for i in range(n):\n",
    "    for j in range(i,n):\n",
    "        print(\" \",end=' ')\n",
    "    for j in range(i+1):\n",
    "        print('*',end=\" \" )\n",
    "    for j in range(i):\n",
    "        print(\"*\",end=\" \")\n",
    "    print()\n",
    "    \n",
    "for i in range(n):\n",
    "    for j in range(i+1):\n",
    "        print(\" \",end=' ')\n",
    "    for j in range(i,n-1):\n",
    "        print('*',end=\" \")\n",
    "    for j in range(i,n):\n",
    "        print(\"*\",end=\" \")\n",
    "    print()\n"
   ]
  },
  {
   "cell_type": "markdown",
   "id": "f030dc72",
   "metadata": {},
   "source": [
    "##### Exercise 8: Print list in reverse order using a loop"
   ]
  },
  {
   "cell_type": "code",
   "execution_count": 13,
   "id": "e9dac265",
   "metadata": {},
   "outputs": [
    {
     "name": "stdout",
     "output_type": "stream",
     "text": [
      "List before reverse :  [1, 2, 3, 4, 5, 'hii', 8.9]\n",
      "List after reverse: [8.9, 'hii', 5, 4, 3, 2, 1]\n"
     ]
    }
   ],
   "source": [
    "original_list = [1, 2, 3, 4, 5,\"hii\",8.9]\n",
    "print(\"List before reverse : \",original_list) \n",
    "reversed_list = [] \n",
    "for i in original_list: \n",
    "    reversed_list = [i] + reversed_list \n",
    "print(\"List after reverse:\",reversed_list)"
   ]
  },
  {
   "cell_type": "code",
   "execution_count": 14,
   "id": "1f2ea2b0",
   "metadata": {},
   "outputs": [
    {
     "name": "stdout",
     "output_type": "stream",
     "text": [
      "[1, 2, 3, 'hii']\n",
      "reversed_list: ['hii', 3, 2, 1]\n",
      "reversed_list: ['hii', 3, 2, 1]\n",
      "reversed_list: ['hii', 3, 2, 1]\n",
      "reversed_list: ['hii', 3, 2, 1]\n"
     ]
    }
   ],
   "source": [
    "original_list=[1,2,3,\"hii\"]\n",
    "print(original_list)\n",
    "for i in original_list:\n",
    "    print(\"reversed_list:\",original_list[::-1])"
   ]
  },
  {
   "cell_type": "markdown",
   "id": "3f4f27b0",
   "metadata": {},
   "source": [
    "##### Exercise 9: Display numbers from -10 to -1 using for loop\n"
   ]
  },
  {
   "cell_type": "code",
   "execution_count": 15,
   "id": "aaaf5158",
   "metadata": {},
   "outputs": [
    {
     "name": "stdout",
     "output_type": "stream",
     "text": [
      "-10 -9 -8 -7 -6 -5 -4 -3 -2 -1 "
     ]
    }
   ],
   "source": [
    "for i in range(-10,0,1):\n",
    "    print(i,end=\" \")"
   ]
  },
  {
   "cell_type": "markdown",
   "id": "2d0c1c09",
   "metadata": {},
   "source": [
    "##### Exercise 10: Use else block to display a message “Done” after successful execution of for loop"
   ]
  },
  {
   "cell_type": "code",
   "execution_count": 16,
   "id": "fd8e56f3",
   "metadata": {},
   "outputs": [
    {
     "name": "stdout",
     "output_type": "stream",
     "text": [
      "Done\n"
     ]
    }
   ],
   "source": [
    "for i in range(2,0):\n",
    "    print(i,end=\"\")\n",
    "else:\n",
    "    print('Done')"
   ]
  },
  {
   "cell_type": "markdown",
   "id": "5a3c8bd9",
   "metadata": {},
   "source": [
    "##### Exercise 11: Write a program to display all prime numbers within a range"
   ]
  },
  {
   "cell_type": "code",
   "execution_count": 18,
   "id": "a66fadf2",
   "metadata": {},
   "outputs": [
    {
     "name": "stdout",
     "output_type": "stream",
     "text": [
      "2 3 5 7 11 13 17 19 23 29 31 37 41 43 47 "
     ]
    }
   ],
   "source": [
    "a = 2 \n",
    "b= 50\n",
    "for num in range(a,b+ 1): \n",
    "    if num > 1:     # all prime #s are greater than 1 \n",
    "        for i in range(2,num): \n",
    "            if (num % i) == 0: \n",
    "                break\n",
    "        else:\n",
    "            print(num,end=\" \")"
   ]
  },
  {
   "cell_type": "markdown",
   "id": "6b44a4ba",
   "metadata": {},
   "source": [
    "##### Exercise 12: Display Fibonacci series up to 10 terms\n"
   ]
  },
  {
   "cell_type": "code",
   "execution_count": 19,
   "id": "032c408e",
   "metadata": {},
   "outputs": [
    {
     "name": "stdout",
     "output_type": "stream",
     "text": [
      "Fibonacci Series: 0 1 1 2 3 5 8 13 21 34 \n"
     ]
    }
   ],
   "source": [
    "num=10\n",
    "n1,n2=0,1\n",
    "print(\"Fibonacci Series:\",n1,n2,end=\" \")\n",
    "for i in range(2,num):\n",
    "    n3=n1+n2\n",
    "    n1=n2\n",
    "    n2=n3\n",
    "    print(n3,end=\" \")\n",
    "    \n",
    "print()\n",
    "    "
   ]
  },
  {
   "cell_type": "code",
   "execution_count": 20,
   "id": "64e20d6f",
   "metadata": {},
   "outputs": [
    {
     "name": "stdout",
     "output_type": "stream",
     "text": [
      "fibonacci series 0 1 1 2 3 5 8 13 21 34 55 89 144 233 377 \n"
     ]
    }
   ],
   "source": [
    "num=15\n",
    "n1=0\n",
    "n2=1\n",
    "print(\"fibonacci series\",n1,n2,end=\" \")\n",
    "for i in range(2,num):\n",
    "    n3=n1+n2\n",
    "    n1=n2\n",
    "    n2=n3\n",
    "    print(n3,end=\" \")\n",
    "print()"
   ]
  },
  {
   "cell_type": "markdown",
   "id": "2f01b3e1",
   "metadata": {},
   "source": [
    "##### Exercise 13: Find the factorial of a given number\n"
   ]
  },
  {
   "cell_type": "code",
   "execution_count": 21,
   "id": "9e637243",
   "metadata": {},
   "outputs": [
    {
     "name": "stdout",
     "output_type": "stream",
     "text": [
      "24\n"
     ]
    }
   ],
   "source": [
    "num=4\n",
    "fact=1\n",
    "for i in range (1,num+1):\n",
    "    fact=fact*i\n",
    "print(fact)\n",
    "\n"
   ]
  },
  {
   "cell_type": "markdown",
   "id": "a9e4fccf",
   "metadata": {},
   "source": [
    "##### Exercise 14: Reverse a given integer number"
   ]
  },
  {
   "cell_type": "code",
   "execution_count": 22,
   "id": "4ca246a2",
   "metadata": {},
   "outputs": [
    {
     "name": "stdout",
     "output_type": "stream",
     "text": [
      "9877654321\n"
     ]
    }
   ],
   "source": [
    "num=1234567789\n",
    "print(str(num)[::-1])"
   ]
  },
  {
   "cell_type": "markdown",
   "id": "d09ca1bc",
   "metadata": {},
   "source": [
    "##### Exercise 15: Use a loop to display elements from a given list present at odd index positions\n"
   ]
  },
  {
   "cell_type": "code",
   "execution_count": 23,
   "id": "5146a817",
   "metadata": {},
   "outputs": [
    {
     "name": "stdout",
     "output_type": "stream",
     "text": [
      "Enter size of list:4\n",
      "enter element:12\n",
      "enter element:54\n",
      "enter element:36\n",
      "enter element:38\n",
      "['12', '54', '36', '38']\n",
      "[1] 54\n",
      "[3] 38\n"
     ]
    }
   ],
   "source": [
    "list=[]\n",
    "size=int(input('Enter size of list:'))\n",
    "for i in range (size):\n",
    "    num=input('enter element:')\n",
    "    list.append(num)\n",
    "print(list)\n",
    "for i in range(len(list)):\n",
    "     if(not(i%2))==0:\n",
    "            print([i],list[i])\n"
   ]
  },
  {
   "cell_type": "markdown",
   "id": "38c3e245",
   "metadata": {},
   "source": [
    "##### Exercise 16: Calculate the cube of all numbers from 1 to a given number\n"
   ]
  },
  {
   "cell_type": "code",
   "execution_count": 24,
   "id": "f6d5b105",
   "metadata": {},
   "outputs": [
    {
     "name": "stdout",
     "output_type": "stream",
     "text": [
      "Enter number:3\n",
      "Cube of 1 = 1\n",
      "Cube of 2 = 8\n",
      "Cube of 3 = 27\n"
     ]
    }
   ],
   "source": [
    "a=1\n",
    "b=int(input('Enter number:'))\n",
    "Cubes=[]\n",
    "for i in range(a,b+1):\n",
    "    Cubes.append(i**3)\n",
    "    print(\"Cube of\",i,\"=\",i**3)\n",
    "    "
   ]
  },
  {
   "cell_type": "code",
   "execution_count": 25,
   "id": "bf6b4870",
   "metadata": {},
   "outputs": [
    {
     "name": "stdout",
     "output_type": "stream",
     "text": [
      "enter a number4\n",
      "Cube of 1 = 1\n",
      "Cube of 2 = 8\n",
      "Cube of 3 = 27\n",
      "Cube of 4 = 64\n"
     ]
    }
   ],
   "source": [
    "a=1\n",
    "b=int(input('enter a number'))\n",
    "cubes=[]\n",
    "for i in range(a,b+1):\n",
    "    cubes.append(i**3)\n",
    "    print(\"Cube of\",i,\"=\",i**3)\n"
   ]
  },
  {
   "cell_type": "markdown",
   "id": "f4db6a5b",
   "metadata": {},
   "source": [
    "##### Exercise 17: Find the sum of the series upto n terms\n"
   ]
  },
  {
   "cell_type": "code",
   "execution_count": 26,
   "id": "b20cf9ed",
   "metadata": {},
   "outputs": [
    {
     "name": "stdout",
     "output_type": "stream",
     "text": [
      "Enter your number:6\n",
      "21.0\n"
     ]
    }
   ],
   "source": [
    "n=int(input('Enter your number:'))\n",
    "a=((n+1)*n)/2\n",
    "print(a)"
   ]
  },
  {
   "cell_type": "code",
   "execution_count": 27,
   "id": "d3562cc5",
   "metadata": {},
   "outputs": [
    {
     "name": "stdout",
     "output_type": "stream",
     "text": [
      "Enter number:7\n",
      "28\n"
     ]
    }
   ],
   "source": [
    "n=int(input('Enter number:'))\n",
    "sum=0\n",
    "while(n>0):\n",
    "    sum=sum+n\n",
    "    n=n-1\n",
    "print(sum)"
   ]
  },
  {
   "cell_type": "markdown",
   "id": "7df8120b",
   "metadata": {},
   "source": [
    "##### Exercise 18: Print the following pattern:\n",
    "        1\n",
    "        12\n",
    "        123\n",
    "        1234"
   ]
  },
  {
   "cell_type": "code",
   "execution_count": 28,
   "id": "7f147b4e",
   "metadata": {},
   "outputs": [
    {
     "name": "stdout",
     "output_type": "stream",
     "text": [
      "1 \n",
      "1 2 \n",
      "1 2 3 \n",
      "1 2 3 4 \n"
     ]
    }
   ],
   "source": [
    "for i in range(1,5):\n",
    "    for j in range(1,i+1):\n",
    "        print(j,end=\" \")\n",
    "    print()"
   ]
  }
 ],
 "metadata": {
  "kernelspec": {
   "display_name": "Python 3 (ipykernel)",
   "language": "python",
   "name": "python3"
  },
  "language_info": {
   "codemirror_mode": {
    "name": "ipython",
    "version": 3
   },
   "file_extension": ".py",
   "mimetype": "text/x-python",
   "name": "python",
   "nbconvert_exporter": "python",
   "pygments_lexer": "ipython3",
   "version": "3.11.5"
  }
 },
 "nbformat": 4,
 "nbformat_minor": 5
}
